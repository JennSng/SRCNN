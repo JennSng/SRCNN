{
  "nbformat": 4,
  "nbformat_minor": 0,
  "metadata": {
    "colab": {
      "provenance": []
    },
    "kernelspec": {
      "name": "python3",
      "display_name": "Python 3"
    },
    "language_info": {
      "name": "python"
    }
  },
  "cells": [
    {
      "cell_type": "code",
      "execution_count": null,
      "metadata": {
        "id": "AqmD8_0PLEPN",
        "colab": {
          "base_uri": "https://localhost:8080/"
        },
        "outputId": "e87f485c-0ec6-42d0-8c0f-8629807ee51e"
      },
      "outputs": [
        {
          "output_type": "stream",
          "name": "stdout",
          "text": [
            "Mounted at srcnn\n"
          ]
        }
      ],
      "source": [
        "from google.colab import drive\n",
        "drive.mount('srcnn')"
      ]
    },
    {
      "cell_type": "code",
      "source": [
        "import torch\n",
        "import matplotlib\n",
        "import matplotlib.pyplot as plt\n",
        "import time\n",
        "import h5py\n",
        "import srcnn\n",
        "import torch.optim as optim\n",
        "import torch.nn as nn\n",
        "import numpy as np\n",
        "import math\n",
        "from torchvision.transforms import ToPILImage\n",
        "from torch.utils.data import DataLoader, Dataset\n",
        "from tqdm import tqdm\n",
        "from sklearn.model_selection import train_test_split\n",
        "from torchvision.utils import save_image\n",
        "%matplotlib inline\n",
        "\n",
        "import torch.nn as nn\n",
        "import torch.nn.functional as F\n",
        "import time\n",
        "\n",
        "device = torch.device('cuda' if torch.cuda.is_available() else 'cpu')"
      ],
      "metadata": {
        "id": "A-4rc8Y0XtGR"
      },
      "execution_count": null,
      "outputs": []
    },
    {
      "cell_type": "code",
      "source": [
        "# 디렉토리 이동\n",
        "!cd /content\n",
        "\n",
        "# 데이터를 저장할 폴더 생성\n",
        "#!mkdir data\n",
        "\n",
        "# 압축 풀기\n",
        "!unzip /content/srcnn/MyDrive/data/input.zip -d /content/data"
      ],
      "metadata": {
        "id": "fzBurVXxYB8V",
        "outputId": "e0623d96-5084-4e04-8513-19a395109e18",
        "colab": {
          "base_uri": "https://localhost:8080/"
        }
      },
      "execution_count": null,
      "outputs": [
        {
          "output_type": "stream",
          "name": "stdout",
          "text": [
            "Archive:  /content/srcnn/MyDrive/data/input.zip\n",
            "replace /content/data/bicubic_2x/baby_GT.bmp? [y]es, [n]o, [A]ll, [N]one, [r]ename: y\n",
            "  inflating: /content/data/bicubic_2x/baby_GT.bmp  \n",
            "replace /content/data/bicubic_2x/bird_GT.bmp? [y]es, [n]o, [A]ll, [N]one, [r]ename: y\n",
            "  inflating: /content/data/bicubic_2x/bird_GT.bmp  \n",
            "replace /content/data/bicubic_2x/butterfly_GT.bmp? [y]es, [n]o, [A]ll, [N]one, [r]ename: y\n",
            "  inflating: /content/data/bicubic_2x/butterfly_GT.bmp  \n",
            "replace /content/data/bicubic_2x/head_GT.bmp? [y]es, [n]o, [A]ll, [N]one, [r]ename: y\n",
            "  inflating: /content/data/bicubic_2x/head_GT.bmp  \n",
            "replace /content/data/bicubic_2x/woman_GT.bmp? [y]es, [n]o, [A]ll, [N]one, [r]ename: y\n",
            "  inflating: /content/data/bicubic_2x/woman_GT.bmp  \n",
            "replace /content/data/Set5/baby.png? [y]es, [n]o, [A]ll, [N]one, [r]ename: y\n",
            " extracting: /content/data/Set5/baby.png  \n",
            "replace /content/data/Set5/bird.png? [y]es, [n]o, [A]ll, [N]one, [r]ename: y\n",
            " extracting: /content/data/Set5/bird.png  y\n",
            "\n",
            "replace /content/data/Set5/butterfly.png? [y]es, [n]o, [A]ll, [N]one, [r]ename:  extracting: /content/data/Set5/butterfly.png  \n",
            "replace /content/data/Set5/head.png? [y]es, [n]o, [A]ll, [N]one, [r]ename: y\n",
            " extracting: /content/data/Set5/head.png  \n",
            "replace /content/data/Set5/woman.png? [y]es, [n]o, [A]ll, [N]one, [r]ename: y\n",
            "y\n",
            "  inflating: /content/data/Set5/woman.png  \n",
            "replace /content/data/T91/t1.png? [y]es, [n]o, [A]ll, [N]one, [r]ename:   inflating: /content/data/T91/t1.png  \n",
            "replace /content/data/T91/t10.png? [y]es, [n]o, [A]ll, [N]one, [r]ename: y\n",
            " extracting: /content/data/T91/t10.png  \n",
            "replace /content/data/T91/t11.png? [y]es, [n]o, [A]ll, [N]one, [r]ename: y\n",
            "y\n",
            " extracting: /content/data/T91/t11.png  \n",
            "replace /content/data/T91/t12.png? [y]es, [n]o, [A]ll, [N]one, [r]ename:   inflating: /content/data/T91/t12.png  \n",
            "replace /content/data/T91/t13.png? [y]es, [n]o, [A]ll, [N]one, [r]ename: y\n",
            " extracting: /content/data/T91/t13.png  \n",
            "replace /content/data/T91/t14.png? [y]es, [n]o, [A]ll, [N]one, [r]ename: y\n",
            "y\n",
            " extracting: /content/data/T91/t14.png  \n",
            "replace /content/data/T91/t15.png? [y]es, [n]o, [A]ll, [N]one, [r]ename:   inflating: /content/data/T91/t15.png  \n",
            "replace /content/data/T91/t16.png? [y]es, [n]o, [A]ll, [N]one, [r]ename: y\n",
            " extracting: /content/data/T91/t16.png  \n",
            "replace /content/data/T91/t17.png? [y]es, [n]o, [A]ll, [N]one, [r]ename: y\n",
            " extracting: /content/data/T91/t17.png  \n",
            "replace /content/data/T91/t18.png? [y]es, [n]o, [A]ll, [N]one, [r]ename: y\n",
            " extracting: /content/data/T91/t18.png  \n",
            "replace /content/data/T91/t19.png? [y]es, [n]o, [A]ll, [N]one, [r]ename: y\n",
            " extracting: /content/data/T91/t19.png  \n",
            "replace /content/data/T91/t2.png? [y]es, [n]o, [A]ll, [N]one, [r]ename: y\n",
            " extracting: /content/data/T91/t2.png  \n",
            "replace /content/data/T91/t20.png? [y]es, [n]o, [A]ll, [N]one, [r]ename: y\n",
            "y\n",
            "  inflating: /content/data/T91/t20.png  \n",
            "replace /content/data/T91/t21.png? [y]es, [n]o, [A]ll, [N]one, [r]ename:  extracting: /content/data/T91/t21.png  \n",
            "replace /content/data/T91/t22.png? [y]es, [n]o, [A]ll, [N]one, [r]ename: y\n",
            " extracting: /content/data/T91/t22.png  \n",
            "replace /content/data/T91/t23.png? [y]es, [n]o, [A]ll, [N]one, [r]ename: y\n",
            " extracting: /content/data/T91/t23.png  \n",
            "replace /content/data/T91/t24.png? [y]es, [n]o, [A]ll, [N]one, [r]ename: yy\n",
            " extracting: /content/data/T91/t24.png  \n",
            "replace /content/data/T91/t25.png? [y]es, [n]o, [A]ll, [N]one, [r]ename: y\n",
            "y\n",
            " extracting: /content/data/T91/t25.png  \n",
            "replace /content/data/T91/t26.png? [y]es, [n]o, [A]ll, [N]one, [r]ename:  extracting: /content/data/T91/t26.png  \n",
            "replace /content/data/T91/t27.png? [y]es, [n]o, [A]ll, [N]one, [r]ename: y\n",
            " extracting: /content/data/T91/t27.png  \n",
            "replace /content/data/T91/t28.png? [y]es, [n]o, [A]ll, [N]one, [r]ename: y\n",
            " extracting: /content/data/T91/t28.png  \n",
            "replace /content/data/T91/t29.png? [y]es, [n]o, [A]ll, [N]one, [r]ename: y\n",
            " extracting: /content/data/T91/t29.png  \n",
            "replace /content/data/T91/t3.png? [y]es, [n]o, [A]ll, [N]one, [r]ename: y\n",
            " extracting: /content/data/T91/t3.png  y\n",
            "y\n",
            "\n",
            "replace /content/data/T91/t30.png? [y]es, [n]o, [A]ll, [N]one, [r]ename:  extracting: /content/data/T91/t30.png  \n",
            "replace /content/data/T91/t31.png? [y]es, [n]o, [A]ll, [N]one, [r]ename:  extracting: /content/data/T91/t31.png  \n",
            "replace /content/data/T91/t32.png? [y]es, [n]o, [A]ll, [N]one, [r]ename: y\n",
            " extracting: /content/data/T91/t32.png  \n",
            "replace /content/data/T91/t33.png? [y]es, [n]o, [A]ll, [N]one, [r]ename: y\n",
            " extracting: /content/data/T91/t33.png  \n",
            "replace /content/data/T91/t34.png? [y]es, [n]o, [A]ll, [N]one, [r]ename: y\n",
            "  inflating: /content/data/T91/t34.png  \n",
            "replace /content/data/T91/t35.png? [y]es, [n]o, [A]ll, [N]one, [r]ename: y\n",
            "  inflating: /content/data/T91/t35.png  \n",
            "replace /content/data/T91/t36.png? [y]es, [n]o, [A]ll, [N]one, [r]ename: y\n",
            "  inflating: /content/data/T91/t36.png  \n",
            "replace /content/data/T91/t37.png? [y]es, [n]o, [A]ll, [N]one, [r]ename: y\n",
            " extracting: /content/data/T91/t37.png  \n",
            "replace /content/data/T91/t38.png? [y]es, [n]o, [A]ll, [N]one, [r]ename: y\n",
            " extracting: /content/data/T91/t38.png  \n",
            "replace /content/data/T91/t39.png? [y]es, [n]o, [A]ll, [N]one, [r]ename: y\n",
            " extracting: /content/data/T91/t39.png  \n",
            "replace /content/data/T91/t4.png? [y]es, [n]o, [A]ll, [N]one, [r]ename: y\n",
            " extracting: /content/data/T91/t4.png  \n",
            "replace /content/data/T91/t40.png? [y]es, [n]o, [A]ll, [N]one, [r]ename: y\n",
            " extracting: /content/data/T91/t40.png  \n",
            "replace /content/data/T91/t42.png? [y]es, [n]o, [A]ll, [N]one, [r]ename: y\n",
            "  inflating: /content/data/T91/t42.png  \n",
            "replace /content/data/T91/t43.png? [y]es, [n]o, [A]ll, [N]one, [r]ename: y\n",
            " extracting: /content/data/T91/t43.png  \n",
            "replace /content/data/T91/t44.png? [y]es, [n]o, [A]ll, [N]one, [r]ename: y\n",
            " extracting: /content/data/T91/t44.png  \n",
            "replace /content/data/T91/t45.png? [y]es, [n]o, [A]ll, [N]one, [r]ename: y\n",
            " extracting: /content/data/T91/t45.png  y\n",
            "\n",
            "replace /content/data/T91/t46.png? [y]es, [n]o, [A]ll, [N]one, [r]ename:  extracting: /content/data/T91/t46.png  \n",
            "replace /content/data/T91/t47.png? [y]es, [n]o, [A]ll, [N]one, [r]ename: y\n",
            " extracting: /content/data/T91/t47.png  \n",
            "replace /content/data/T91/t48.png? [y]es, [n]o, [A]ll, [N]one, [r]ename: y\n",
            " extracting: /content/data/T91/t48.png  \n",
            "replace /content/data/T91/t49.png? [y]es, [n]o, [A]ll, [N]one, [r]ename: y\n",
            " extracting: /content/data/T91/t49.png  \n",
            "replace /content/data/T91/t5.png? [y]es, [n]o, [A]ll, [N]one, [r]ename: y\n",
            "  inflating: /content/data/T91/t5.png  \n",
            "replace /content/data/T91/t50.png? [y]es, [n]o, [A]ll, [N]one, [r]ename: y\n",
            " extracting: /content/data/T91/t50.png  \n",
            "replace /content/data/T91/t51.png? [y]es, [n]o, [A]ll, [N]one, [r]ename: y\n",
            " extracting: /content/data/T91/t51.png  \n",
            "replace /content/data/T91/t52.png? [y]es, [n]o, [A]ll, [N]one, [r]ename: y\n",
            " extracting: /content/data/T91/t52.png  \n",
            "replace /content/data/T91/t53.png? [y]es, [n]o, [A]ll, [N]one, [r]ename: y\n",
            "  inflating: /content/data/T91/t53.png  \n",
            "replace /content/data/T91/t54.png? [y]es, [n]o, [A]ll, [N]one, [r]ename: y\n",
            " extracting: /content/data/T91/t54.png  \n",
            "replace /content/data/T91/t55.png? [y]es, [n]o, [A]ll, [N]one, [r]ename: y\n",
            "  inflating: /content/data/T91/t55.png  \n",
            "replace /content/data/T91/t56.png? [y]es, [n]o, [A]ll, [N]one, [r]ename: y\n",
            "  inflating: /content/data/T91/t56.png  \n",
            "replace /content/data/T91/t57.png? [y]es, [n]o, [A]ll, [N]one, [r]ename: y\n",
            "  inflating: /content/data/T91/t57.png  \n",
            "replace /content/data/T91/t58.png? [y]es, [n]o, [A]ll, [N]one, [r]ename: y\n",
            " extracting: /content/data/T91/t58.png  \n",
            "replace /content/data/T91/t59.png? [y]es, [n]o, [A]ll, [N]one, [r]ename: y\n",
            " extracting: /content/data/T91/t59.png  \n",
            "replace /content/data/T91/t6.png? [y]es, [n]o, [A]ll, [N]one, [r]ename: \n",
            "error:  invalid response [{ENTER}]\n",
            "replace /content/data/T91/t6.png? [y]es, [n]o, [A]ll, [N]one, [r]ename: y\n",
            "y\n",
            " extracting: /content/data/T91/t6.png  \n",
            "replace /content/data/T91/t60.png? [y]es, [n]o, [A]ll, [N]one, [r]ename:   inflating: /content/data/T91/t60.png  \n",
            "replace /content/data/T91/t61.png? [y]es, [n]o, [A]ll, [N]one, [r]ename: y\n",
            " extracting: /content/data/T91/t61.png  \n",
            "replace /content/data/T91/t62.png? [y]es, [n]o, [A]ll, [N]one, [r]ename: y\n",
            " extracting: /content/data/T91/t62.png  \n",
            "replace /content/data/T91/t63.png? [y]es, [n]o, [A]ll, [N]one, [r]ename: y\n",
            " extracting: /content/data/T91/t63.png  \n",
            "replace /content/data/T91/t64.png? [y]es, [n]o, [A]ll, [N]one, [r]ename: y\n",
            "  inflating: /content/data/T91/t64.png  \n",
            "replace /content/data/T91/t65.png? [y]es, [n]o, [A]ll, [N]one, [r]ename: y\n",
            "  inflating: /content/data/T91/t65.png  \n",
            "replace /content/data/T91/t66.png? [y]es, [n]o, [A]ll, [N]one, [r]ename: y\n",
            " extracting: /content/data/T91/t66.png  \n",
            "replace /content/data/T91/t7.png? [y]es, [n]o, [A]ll, [N]one, [r]ename: y\n",
            " extracting: /content/data/T91/t7.png  \n",
            "replace /content/data/T91/t8.png? [y]es, [n]o, [A]ll, [N]one, [r]ename: y\n",
            " extracting: /content/data/T91/t8.png  \n",
            "replace /content/data/T91/t9.png? [y]es, [n]o, [A]ll, [N]one, [r]ename: y\n",
            " extracting: /content/data/T91/t9.png  \n",
            "replace /content/data/T91/tt1.png? [y]es, [n]o, [A]ll, [N]one, [r]ename: y\n",
            " extracting: /content/data/T91/tt1.png  \n",
            "replace /content/data/T91/tt10.png? [y]es, [n]o, [A]ll, [N]one, [r]ename: y\n",
            " extracting: /content/data/T91/tt10.png  \n",
            "replace /content/data/T91/tt12.png? [y]es, [n]o, [A]ll, [N]one, [r]ename: y\n",
            "  inflating: /content/data/T91/tt12.png  \n",
            "replace /content/data/T91/tt13.png? [y]es, [n]o, [A]ll, [N]one, [r]ename: y\n",
            " extracting: /content/data/T91/tt13.png  \n",
            "replace /content/data/T91/tt14.png? [y]es, [n]o, [A]ll, [N]one, [r]ename: y\n",
            "  inflating: /content/data/T91/tt14.png  \n",
            "replace /content/data/T91/tt15.png? [y]es, [n]o, [A]ll, [N]one, [r]ename: y\n",
            " extracting: /content/data/T91/tt15.png  \n",
            "replace /content/data/T91/tt16.png? [y]es, [n]o, [A]ll, [N]one, [r]ename: y\n",
            "  inflating: /content/data/T91/tt16.png  \n",
            "replace /content/data/T91/tt17.png? [y]es, [n]o, [A]ll, [N]one, [r]ename: y\n",
            " extracting: /content/data/T91/tt17.png  \n",
            "replace /content/data/T91/tt18.png? [y]es, [n]o, [A]ll, [N]one, [r]ename: y\n",
            "  inflating: /content/data/T91/tt18.png  \n",
            "replace /content/data/T91/tt19.png? [y]es, [n]o, [A]ll, [N]one, [r]ename: y\n",
            "  inflating: /content/data/T91/tt19.png  \n",
            "replace /content/data/T91/tt2.png? [y]es, [n]o, [A]ll, [N]one, [r]ename: y\n",
            "  inflating: /content/data/T91/tt2.png  \n",
            "replace /content/data/T91/tt20.png? [y]es, [n]o, [A]ll, [N]one, [r]ename: y\n",
            " extracting: /content/data/T91/tt20.png  \n",
            "replace /content/data/T91/tt21.png? [y]es, [n]o, [A]ll, [N]one, [r]ename: y\n",
            " extracting: /content/data/T91/tt21.png  \n",
            "replace /content/data/T91/tt22.png? [y]es, [n]o, [A]ll, [N]one, [r]ename: y\n",
            " extracting: /content/data/T91/tt22.png  \n",
            "replace /content/data/T91/tt23.png? [y]es, [n]o, [A]ll, [N]one, [r]ename: y\n",
            " extracting: /content/data/T91/tt23.png  \n",
            "replace /content/data/T91/tt24.png? [y]es, [n]o, [A]ll, [N]one, [r]ename: y\n",
            "  inflating: /content/data/T91/tt24.png  \n",
            "replace /content/data/T91/tt25.png? [y]es, [n]o, [A]ll, [N]one, [r]ename: y\n",
            " extracting: /content/data/T91/tt25.png  \n",
            "replace /content/data/T91/tt26.png? [y]es, [n]o, [A]ll, [N]one, [r]ename: y\n",
            " extracting: /content/data/T91/tt26.png  \n",
            "replace /content/data/T91/tt27.png? [y]es, [n]o, [A]ll, [N]one, [r]ename: y\n",
            " extracting: /content/data/T91/tt27.png  \n",
            "replace /content/data/T91/tt3.png? [y]es, [n]o, [A]ll, [N]one, [r]ename: y\n",
            " extracting: /content/data/T91/tt3.png  \n",
            "replace /content/data/T91/tt4.png? [y]es, [n]o, [A]ll, [N]one, [r]ename: y\n",
            " extracting: /content/data/T91/tt4.png  \n",
            "replace /content/data/T91/tt5.png? [y]es, [n]o, [A]ll, [N]one, [r]ename: y\n",
            " extracting: /content/data/T91/tt5.png  y\n",
            "\n",
            "replace /content/data/T91/tt6.png? [y]es, [n]o, [A]ll, [N]one, [r]ename:  extracting: /content/data/T91/tt6.png  \n",
            "replace /content/data/T91/tt7.png? [y]es, [n]o, [A]ll, [N]one, [r]ename: y\n",
            " extracting: /content/data/T91/tt7.png  \n",
            "replace /content/data/T91/tt8.png? [y]es, [n]o, [A]ll, [N]one, [r]ename: y\n",
            " extracting: /content/data/T91/tt8.png  y\n",
            "y\n",
            "\n",
            "replace /content/data/T91/tt9.png? [y]es, [n]o, [A]ll, [N]one, [r]ename:   inflating: /content/data/T91/tt9.png  \n",
            "replace /content/data/train_mscale.h5? [y]es, [n]o, [A]ll, [N]one, [r]ename:   inflating: /content/data/train_mscale.h5  y\n",
            "y\n",
            "y\n",
            "y\n",
            "y\n",
            "y\n",
            "y\n",
            "y\n",
            "y\n",
            "y\n",
            "\n"
          ]
        }
      ]
    },
    {
      "cell_type": "code",
      "source": [
        "yyinput_h, input_w = 33, 33 # sub-image에 대한 크기\n",
        "out_h, out_w = 33, 33 # label인 high-resolution에 대한 크기\n",
        "\n",
        "# sub-images와 label 읽어오기\n",
        "file = h5py.File('/content/data/train_mscale.h5')\n",
        "in_train = file['data'][:] # train data\n",
        "out_train = file['label'][:] # train label\n",
        "file.close()\n",
        "\n",
        "# float32로 타입 변경\n",
        "in_train = in_train.astype('float32')\n",
        "out_train = out_train.astype('float32')\n",
        "\n",
        "# 0.75: 0.15 = train : val 분할\n",
        "(x_train, x_val, y_train, y_val) = train_test_split(in_train, out_train, test_size=0.25)\n",
        "print(x_train.shape[0])\n",
        "print(x_val.shape[0])"
      ],
      "metadata": {
        "id": "M14sSwBaLUie",
        "colab": {
          "base_uri": "https://localhost:8080/"
        },
        "outputId": "e330bfa3-5e40-48cb-db44-4c95b6e81d4c"
      },
      "execution_count": null,
      "outputs": [
        {
          "output_type": "stream",
          "name": "stdout",
          "text": [
            "16368\n",
            "5456\n"
          ]
        }
      ]
    },
    {
      "cell_type": "code",
      "source": [
        "class SRCNNDataset(Dataset):\n",
        "    def __init__(self, image_data, labels):\n",
        "        self.image_data = image_data\n",
        "        self.labels = labels\n",
        "\n",
        "    def __len__(self):\n",
        "        return (len(self.image_data))\n",
        "\n",
        "    def __getitem__(self, index):\n",
        "        image = self.image_data[index]\n",
        "        label = self.labels[index]\n",
        "        return (torch.tensor(image, dtype=torch.float),\n",
        "            torch.tensor(label, dtype=torch.float))"
      ],
      "metadata": {
        "id": "RzO-9BnNNZiE"
      },
      "execution_count": null,
      "outputs": []
    },
    {
      "cell_type": "code",
      "source": [
        "train_ds = SRCNNDataset(x_train, y_train)\n",
        "val_ds = SRCNNDataset(x_val, y_val)\n",
        "\n",
        "# 데이터로더 생성\n",
        "train_dl = DataLoader(train_ds, batch_size=64)\n",
        "val_dl = DataLoader(val_ds, batch_size=64)"
      ],
      "metadata": {
        "id": "S7kOgLm8Nt1-"
      },
      "execution_count": null,
      "outputs": []
    },
    {
      "cell_type": "code",
      "source": [
        "for x, y in train_dl:\n",
        "    print(x.shape, y.shape)\n",
        "    break"
      ],
      "metadata": {
        "id": "L5YkMNvZa--3",
        "colab": {
          "base_uri": "https://localhost:8080/"
        },
        "outputId": "5ccd0afc-5b4c-454f-eeeb-512c2f8a5fb9"
      },
      "execution_count": null,
      "outputs": [
        {
          "output_type": "stream",
          "name": "stdout",
          "text": [
            "torch.Size([64, 1, 33, 33]) torch.Size([64, 1, 33, 33])\n"
          ]
        }
      ]
    },
    {
      "cell_type": "code",
      "source": [
        "img = x[0]\n",
        "target = y[0]\n",
        "print(img.shape, target.shape)\n",
        "print(img.dtype)"
      ],
      "metadata": {
        "id": "cu6zgPu1bG9J",
        "colab": {
          "base_uri": "https://localhost:8080/"
        },
        "outputId": "c274c799-621f-4b48-f8ac-d13b917d6694"
      },
      "execution_count": null,
      "outputs": [
        {
          "output_type": "stream",
          "name": "stdout",
          "text": [
            "torch.Size([1, 33, 33]) torch.Size([1, 33, 33])\n",
            "torch.float32\n"
          ]
        }
      ]
    },
    {
      "cell_type": "code",
      "source": [
        "from torchvision.transforms.functional import to_pil_image\n",
        "\n",
        "plt.figure()\n",
        "plt.subplot(1,2,1)\n",
        "plt.imshow(to_pil_image(img), cmap='gray')\n",
        "plt.title('train')\n",
        "plt.subplot(1,2,2)\n",
        "plt.imshow(to_pil_image(target), cmap='gray')\n",
        "plt.title('target')"
      ],
      "metadata": {
        "id": "R96GydR5bXC3",
        "colab": {
          "base_uri": "https://localhost:8080/",
          "height": 234
        },
        "outputId": "a2caf23f-fcc3-4149-e3d2-0acff026c372"
      },
      "execution_count": null,
      "outputs": [
        {
          "output_type": "execute_result",
          "data": {
            "text/plain": [
              "Text(0.5, 1.0, 'target')"
            ]
          },
          "metadata": {},
          "execution_count": 35
        },
        {
          "output_type": "display_data",
          "data": {
            "text/plain": [
              "<Figure size 432x288 with 2 Axes>"
            ],
            "image/png": "[encoded data removed]"
          },
          "metadata": {
            "needs_background": "light"
          }
        }
      ]
    },
    {
      "cell_type": "code",
      "source": [
        "class SRCNN(nn.Module):\n",
        "    def __init__(self):\n",
        "        super().__init__()\n",
        "\n",
        "        # padding_mode='replicate'는 zero padding이 아닌, 주변 값을 복사해서 padding 합니다.\n",
        "        self.conv1 = nn.Conv2d(1, 64, 9, padding=2, padding_mode='replicate')\n",
        "        self.conv2 = nn.Conv2d(64, 32, 1, padding=2, padding_mode='replicate')\n",
        "        self.conv3 = nn.Conv2d(32, 1, 5, padding=2, padding_mode='replicate')\n",
        "\n",
        "    def forward(self, x):\n",
        "        x = F.relu(self.conv1(x))\n",
        "        x = F.relu(self.conv2(x))\n",
        "        x = self.conv3(x)\n",
        "\n",
        "        return x"
      ],
      "metadata": {
        "id": "VtLQJOPqboT-"
      },
      "execution_count": null,
      "outputs": []
    },
    {
      "cell_type": "code",
      "source": [
        "x = torch.randn(64,1,33,33).to(device)\n",
        "model = SRCNN().to(device)\n",
        "output = model(x)\n",
        "print(output.shape)"
      ],
      "metadata": {
        "id": "YGNXoe1rbNAM",
        "colab": {
          "base_uri": "https://localhost:8080/"
        },
        "outputId": "62c53fe9-33e3-4fc5-9c97-48fffe7ace04"
      },
      "execution_count": null,
      "outputs": [
        {
          "output_type": "stream",
          "name": "stdout",
          "text": [
            "torch.Size([64, 1, 33, 33])\n"
          ]
        }
      ]
    },
    {
      "cell_type": "code",
      "source": [
        "def initialize_weights(model):\n",
        "    classname = model.__class__.__name__\n",
        "    if classname.find('Conv') != -1:\n",
        "        nn.init.normal_(model.weight.data, 0.0, 0.02)\n",
        "\n",
        "model.apply(initialize_weights);"
      ],
      "metadata": {
        "id": "TINkCauJbO8-"
      },
      "execution_count": null,
      "outputs": []
    },
    {
      "cell_type": "code",
      "source": [
        "loss_func = nn.MSELoss()\n",
        "\n",
        "# optimizer\n",
        "import torch.optim as optim\n",
        "optimizer = optim.Adam(model.parameters())"
      ],
      "metadata": {
        "id": "migRvTmzbQyB"
      },
      "execution_count": null,
      "outputs": []
    },
    {
      "cell_type": "code",
      "source": [
        "def psnr(label, outputs, max_val=1.):\n",
        "    label = label.cpu().detach().numpy()\n",
        "    outputs = outputs.cpu().detach().numpy()\n",
        "    img_diff = outputs - label\n",
        "    rmse = math.sqrt(np.mean((img_diff)**2))\n",
        "    if rmse == 0: # label과 output이 완전히 일치하는 경우\n",
        "        return 100\n",
        "    else:\n",
        "        psnr = 20 * math.log10(max_val/rmse)\n",
        "        return psnr"
      ],
      "metadata": {
        "id": "QG-alHUdbStq"
      },
      "execution_count": null,
      "outputs": []
    },
    {
      "cell_type": "code",
      "source": [
        "def train(model, data_dl):\n",
        "    model.train()\n",
        "    running_loss = 0.0\n",
        "    running_psnr = 0.0\n",
        "\n",
        "    for ba, data in enumerate(data_dl):\n",
        "        image = data[0].to(device)\n",
        "        label = data[1].to(device)\n",
        "\n",
        "        optimizer.zero_grad()\n",
        "        outputs = model(image)\n",
        "        loss = loss_func(outputs, label)\n",
        "        loss.backward()\n",
        "        optimizer.step()\n",
        "\n",
        "        running_loss += loss.item()\n",
        "        batch_psnr = psnr(label, outputs)\n",
        "        running_psnr += batch_psnr\n",
        "\n",
        "    final_loss = running_loss / len(data_dl.dataset)\n",
        "    final_psnr = running_psnr / int(len(train_ds)/data_dl.batch_size)\n",
        "    return final_loss, final_psnr"
      ],
      "metadata": {
        "id": "YRi4KxmBbVJJ"
      },
      "execution_count": null,
      "outputs": []
    },
    {
      "cell_type": "code",
      "source": [
        "def validate(model, data_dl, epoch):\n",
        "    # epoch는 이미지를 저장할때, 이미지의 이름으로 사용됩니다.\n",
        "\n",
        "    model.eval()\n",
        "    running_loss = 0.0\n",
        "    running_psnr = 0.0\n",
        "    with torch.no_grad():\n",
        "        for ba, data in enumerate(data_dl):\n",
        "            image = data[0].to(device)\n",
        "            label = data[1].to(device)\n",
        "\n",
        "            outputs = model(image)\n",
        "            loss = loss_func(outputs, label)\n",
        "\n",
        "            running_loss += loss.item()\n",
        "            batch_psnr = psnr(label,outputs)\n",
        "            running_psnr += batch_psnr\n",
        "\n",
        "        outputs = outputs.cpu()\n",
        "        # tensor를 입력받아 이미지 파일로 저장합니다.\n",
        "        save_image(outputs, f'/content/outputs/{epoch}.png')\n",
        "\n",
        "    final_loss = running_loss / len(data_dl.dataset)\n",
        "    final_psnr = running_psnr / int(len(val_ds)/data_dl.batch_size)\n",
        "    return final_loss, final_psnr"
      ],
      "metadata": {
        "id": "rEvgn6u6bXQN"
      },
      "execution_count": null,
      "outputs": []
    },
    {
      "cell_type": "code",
      "source": [
        "!mkdir outputs"
      ],
      "metadata": {
        "id": "P-3YtAy6bZUp",
        "colab": {
          "base_uri": "https://localhost:8080/"
        },
        "outputId": "4dfdcf93-8be7-4b83-ec45-1009e2fc51a4"
      },
      "execution_count": null,
      "outputs": [
        {
          "output_type": "stream",
          "name": "stdout",
          "text": [
            "y\n",
            "mkdir: cannot create directory ‘outputs’: File exists\n"
          ]
        }
      ]
    },
    {
      "cell_type": "code",
      "source": [
        "num_epochs = 100\n",
        "\n",
        "# 학습하기\n",
        "train_loss, val_loss = [], []\n",
        "train_psnr, val_psnr = [], []\n",
        "start = time.time()\n",
        "for epoch in range(num_epochs):\n",
        "    print(f'Epoch {epoch + 1} of {num_epochs}')\n",
        "    train_epoch_loss, train_epoch_psnr = train(model, train_dl)\n",
        "    val_epoch_loss, val_epoch_psnr = validate(model, val_dl, epoch)\n",
        "\n",
        "    train_loss.append(train_epoch_loss)\n",
        "    train_psnr.append(train_epoch_psnr)\n",
        "    val_loss.append(val_epoch_loss)\n",
        "    val_psnr.append(val_epoch_psnr)\n",
        "    end = time.time()\n",
        "    print(f'Train PSNR: {train_epoch_psnr:.3f}, Val PSNR: {val_epoch_psnr:.3f}, Time: {end-start:.2f} sec')"
      ],
      "metadata": {
        "id": "ep3xnrESbcL2",
        "colab": {
          "base_uri": "https://localhost:8080/"
        },
        "outputId": "1422b47b-4608-44c8-f5dc-7a7ce659dd84"
      },
      "execution_count": null,
      "outputs": [
        {
          "output_type": "stream",
          "name": "stdout",
          "text": [
            "Epoch 1 of 100\n",
            "Train PSNR: 22.168, Val PSNR: 25.790, Time: 89.72 sec\n",
            "Epoch 2 of 100\n",
            "Train PSNR: 25.938, Val PSNR: 26.270, Time: 181.10 sec\n",
            "Epoch 3 of 100\n",
            "Train PSNR: 26.224, Val PSNR: 26.555, Time: 277.88 sec\n",
            "Epoch 4 of 100\n",
            "Train PSNR: 26.523, Val PSNR: 26.870, Time: 371.43 sec\n",
            "Epoch 5 of 100\n",
            "Train PSNR: 26.834, Val PSNR: 27.177, Time: 461.03 sec\n",
            "Epoch 6 of 100\n",
            "Train PSNR: 27.062, Val PSNR: 27.282, Time: 552.78 sec\n",
            "Epoch 7 of 100\n",
            "Train PSNR: 27.114, Val PSNR: 27.313, Time: 643.97 sec\n",
            "Epoch 8 of 100\n",
            "Train PSNR: 27.131, Val PSNR: 27.344, Time: 735.44 sec\n",
            "Epoch 9 of 100\n",
            "Train PSNR: 27.154, Val PSNR: 27.345, Time: 825.90 sec\n",
            "Epoch 10 of 100\n",
            "Train PSNR: 27.147, Val PSNR: 27.378, Time: 921.54 sec\n",
            "Epoch 11 of 100\n",
            "Train PSNR: 27.192, Val PSNR: 27.387, Time: 1071.56 sec\n",
            "Epoch 12 of 100\n",
            "Train PSNR: 27.201, Val PSNR: 27.396, Time: 1182.52 sec\n",
            "Epoch 13 of 100\n",
            "Train PSNR: 27.188, Val PSNR: 27.443, Time: 1273.38 sec\n",
            "Epoch 14 of 100\n",
            "Train PSNR: 27.250, Val PSNR: 27.433, Time: 1365.29 sec\n",
            "Epoch 15 of 100\n",
            "Train PSNR: 27.233, Val PSNR: 27.466, Time: 1454.62 sec\n",
            "Epoch 16 of 100\n",
            "Train PSNR: 27.272, Val PSNR: 27.476, Time: 1545.44 sec\n",
            "Epoch 17 of 100\n",
            "Train PSNR: 27.270, Val PSNR: 27.484, Time: 1634.82 sec\n",
            "Epoch 18 of 100\n",
            "Train PSNR: 27.280, Val PSNR: 27.499, Time: 1725.35 sec\n",
            "Epoch 19 of 100\n",
            "Train PSNR: 27.277, Val PSNR: 27.489, Time: 1817.87 sec\n",
            "Epoch 20 of 100\n",
            "Train PSNR: 27.301, Val PSNR: 27.514, Time: 1906.49 sec\n",
            "Epoch 21 of 100\n",
            "Train PSNR: 27.306, Val PSNR: 27.517, Time: 1996.47 sec\n",
            "Epoch 22 of 100\n",
            "Train PSNR: 27.313, Val PSNR: 27.535, Time: 2085.47 sec\n",
            "Epoch 23 of 100\n",
            "Train PSNR: 27.324, Val PSNR: 27.548, Time: 2175.82 sec\n",
            "Epoch 24 of 100\n",
            "Train PSNR: 27.334, Val PSNR: 27.555, Time: 2264.86 sec\n",
            "Epoch 25 of 100\n",
            "Train PSNR: 27.340, Val PSNR: 27.563, Time: 2355.06 sec\n",
            "Epoch 26 of 100\n",
            "Train PSNR: 27.348, Val PSNR: 27.567, Time: 2443.84 sec\n",
            "Epoch 27 of 100\n",
            "Train PSNR: 27.352, Val PSNR: 27.568, Time: 2533.66 sec\n",
            "Epoch 28 of 100\n",
            "Train PSNR: 27.365, Val PSNR: 27.598, Time: 2622.52 sec\n",
            "Epoch 29 of 100\n",
            "Train PSNR: 27.379, Val PSNR: 27.604, Time: 2711.44 sec\n",
            "Epoch 30 of 100\n",
            "Train PSNR: 27.384, Val PSNR: 27.613, Time: 2802.19 sec\n",
            "Epoch 31 of 100\n",
            "Train PSNR: 27.398, Val PSNR: 27.626, Time: 2891.35 sec\n",
            "Epoch 32 of 100\n",
            "Train PSNR: 27.406, Val PSNR: 27.632, Time: 2981.55 sec\n",
            "Epoch 33 of 100\n",
            "Train PSNR: 27.407, Val PSNR: 27.635, Time: 3070.23 sec\n",
            "Epoch 34 of 100\n",
            "Train PSNR: 27.410, Val PSNR: 27.623, Time: 3160.68 sec\n",
            "Epoch 35 of 100\n",
            "Train PSNR: 27.421, Val PSNR: 27.636, Time: 3249.83 sec\n",
            "Epoch 36 of 100\n",
            "Train PSNR: 27.426, Val PSNR: 27.669, Time: 3338.56 sec\n",
            "Epoch 37 of 100\n",
            "Train PSNR: 27.438, Val PSNR: 27.675, Time: 3429.44 sec\n",
            "Epoch 38 of 100\n",
            "Train PSNR: 27.433, Val PSNR: 27.627, Time: 3518.94 sec\n",
            "Epoch 39 of 100\n",
            "Train PSNR: 27.451, Val PSNR: 27.686, Time: 3609.62 sec\n",
            "Epoch 40 of 100\n",
            "Train PSNR: 27.450, Val PSNR: 27.688, Time: 3699.39 sec\n",
            "Epoch 41 of 100\n",
            "Train PSNR: 27.459, Val PSNR: 27.688, Time: 3789.75 sec\n",
            "Epoch 42 of 100\n",
            "Train PSNR: 27.454, Val PSNR: 27.706, Time: 3878.36 sec\n",
            "Epoch 43 of 100\n",
            "Train PSNR: 27.474, Val PSNR: 27.700, Time: 3968.52 sec\n",
            "Epoch 44 of 100\n",
            "Train PSNR: 27.472, Val PSNR: 27.708, Time: 4057.16 sec\n",
            "Epoch 45 of 100\n",
            "Train PSNR: 27.461, Val PSNR: 27.712, Time: 4145.70 sec\n",
            "Epoch 46 of 100\n",
            "Train PSNR: 27.492, Val PSNR: 27.724, Time: 4235.58 sec\n",
            "Epoch 47 of 100\n",
            "Train PSNR: 27.482, Val PSNR: 27.730, Time: 4324.34 sec\n",
            "Epoch 48 of 100\n",
            "Train PSNR: 27.502, Val PSNR: 27.726, Time: 4414.25 sec\n",
            "Epoch 49 of 100\n",
            "Train PSNR: 27.499, Val PSNR: 27.754, Time: 4502.75 sec\n",
            "Epoch 50 of 100\n",
            "Train PSNR: 27.507, Val PSNR: 27.741, Time: 4593.07 sec\n",
            "Epoch 51 of 100\n",
            "Train PSNR: 27.521, Val PSNR: 27.755, Time: 4681.71 sec\n",
            "Epoch 52 of 100\n",
            "Train PSNR: 27.519, Val PSNR: 27.755, Time: 4770.64 sec\n",
            "Epoch 53 of 100\n",
            "Train PSNR: 27.526, Val PSNR: 27.771, Time: 4860.95 sec\n",
            "Epoch 54 of 100\n",
            "Train PSNR: 27.530, Val PSNR: 27.759, Time: 4950.35 sec\n",
            "Epoch 55 of 100\n",
            "Train PSNR: 27.532, Val PSNR: 27.758, Time: 5041.57 sec\n",
            "Epoch 56 of 100\n",
            "Train PSNR: 27.520, Val PSNR: 27.787, Time: 5131.81 sec\n",
            "Epoch 57 of 100\n",
            "Train PSNR: 27.552, Val PSNR: 27.709, Time: 5222.92 sec\n",
            "Epoch 58 of 100\n",
            "Train PSNR: 27.549, Val PSNR: 27.793, Time: 5312.41 sec\n",
            "Epoch 59 of 100\n",
            "Train PSNR: 27.563, Val PSNR: 27.792, Time: 5401.67 sec\n",
            "Epoch 60 of 100\n",
            "Train PSNR: 27.567, Val PSNR: 27.797, Time: 5492.21 sec\n",
            "Epoch 61 of 100\n",
            "Train PSNR: 27.564, Val PSNR: 27.812, Time: 5581.33 sec\n",
            "Epoch 62 of 100\n",
            "Train PSNR: 27.579, Val PSNR: 27.809, Time: 5671.17 sec\n",
            "Epoch 63 of 100\n",
            "Train PSNR: 27.579, Val PSNR: 27.829, Time: 5760.16 sec\n",
            "Epoch 64 of 100\n",
            "Train PSNR: 27.580, Val PSNR: 27.846, Time: 5850.06 sec\n",
            "Epoch 65 of 100\n",
            "Train PSNR: 27.591, Val PSNR: 27.857, Time: 5938.70 sec\n",
            "Epoch 66 of 100\n",
            "Train PSNR: 27.596, Val PSNR: 27.838, Time: 6027.82 sec\n",
            "Epoch 67 of 100\n",
            "Train PSNR: 27.608, Val PSNR: 27.863, Time: 6117.30 sec\n",
            "Epoch 68 of 100\n",
            "Train PSNR: 27.605, Val PSNR: 27.863, Time: 6205.94 sec\n",
            "Epoch 69 of 100\n",
            "Train PSNR: 27.581, Val PSNR: 27.836, Time: 6295.90 sec\n",
            "Epoch 70 of 100\n",
            "Train PSNR: 27.629, Val PSNR: 27.794, Time: 6384.76 sec\n",
            "Epoch 71 of 100\n",
            "Train PSNR: 27.601, Val PSNR: 27.325, Time: 6474.69 sec\n",
            "Epoch 72 of 100\n",
            "Train PSNR: 27.579, Val PSNR: 27.894, Time: 6562.96 sec\n",
            "Epoch 73 of 100\n",
            "Train PSNR: 27.599, Val PSNR: 27.920, Time: 6651.39 sec\n",
            "Epoch 74 of 100\n",
            "Train PSNR: 27.662, Val PSNR: 27.938, Time: 6741.43 sec\n",
            "Epoch 75 of 100\n",
            "Train PSNR: 27.641, Val PSNR: 27.759, Time: 6830.19 sec\n",
            "Epoch 76 of 100\n",
            "Train PSNR: 27.566, Val PSNR: 27.784, Time: 6920.51 sec\n",
            "Epoch 77 of 100\n",
            "Train PSNR: 27.591, Val PSNR: 27.722, Time: 7009.71 sec\n",
            "Epoch 78 of 100\n",
            "Train PSNR: 27.559, Val PSNR: 27.748, Time: 7099.54 sec\n",
            "Epoch 79 of 100\n",
            "Train PSNR: 27.593, Val PSNR: 27.741, Time: 7188.39 sec\n",
            "Epoch 80 of 100\n",
            "Train PSNR: 27.593, Val PSNR: 27.780, Time: 7277.36 sec\n",
            "Epoch 81 of 100\n",
            "Train PSNR: 27.643, Val PSNR: 27.826, Time: 7367.30 sec\n",
            "Epoch 82 of 100\n",
            "Train PSNR: 27.651, Val PSNR: 27.602, Time: 7456.16 sec\n",
            "Epoch 83 of 100\n",
            "Train PSNR: 27.668, Val PSNR: 27.903, Time: 7546.77 sec\n",
            "Epoch 84 of 100\n",
            "Train PSNR: 27.695, Val PSNR: 27.967, Time: 7636.64 sec\n",
            "Epoch 85 of 100\n",
            "Train PSNR: 27.623, Val PSNR: 27.759, Time: 7726.65 sec\n",
            "Epoch 86 of 100\n",
            "Train PSNR: 27.661, Val PSNR: 27.863, Time: 7816.50 sec\n",
            "Epoch 87 of 100\n",
            "Train PSNR: 27.620, Val PSNR: 27.737, Time: 7906.40 sec\n",
            "Epoch 88 of 100\n",
            "Train PSNR: 27.640, Val PSNR: 27.773, Time: 7996.63 sec\n",
            "Epoch 89 of 100\n",
            "Train PSNR: 27.664, Val PSNR: 27.981, Time: 8085.96 sec\n",
            "Epoch 90 of 100\n",
            "Train PSNR: 27.694, Val PSNR: 27.840, Time: 8176.77 sec\n",
            "Epoch 91 of 100\n",
            "Train PSNR: 27.707, Val PSNR: 28.016, Time: 8265.90 sec\n",
            "Epoch 92 of 100\n",
            "Train PSNR: 27.709, Val PSNR: 27.689, Time: 8354.87 sec\n",
            "Epoch 93 of 100\n",
            "Train PSNR: 27.615, Val PSNR: 27.809, Time: 8445.68 sec\n",
            "Epoch 94 of 100\n",
            "Train PSNR: 27.641, Val PSNR: 27.566, Time: 8535.30 sec\n",
            "Epoch 95 of 100\n",
            "Train PSNR: 27.632, Val PSNR: 27.935, Time: 8626.24 sec\n",
            "Epoch 96 of 100\n",
            "Train PSNR: 27.204, Val PSNR: 27.638, Time: 8715.82 sec\n",
            "Epoch 97 of 100\n",
            "Train PSNR: 27.479, Val PSNR: 27.680, Time: 8806.51 sec\n",
            "Epoch 98 of 100\n",
            "Train PSNR: 27.504, Val PSNR: 27.700, Time: 8896.09 sec\n",
            "Epoch 99 of 100\n",
            "Train PSNR: 27.514, Val PSNR: 27.708, Time: 8985.89 sec\n",
            "Epoch 100 of 100\n",
            "Train PSNR: 27.528, Val PSNR: 27.731, Time: 9075.70 sec\n"
          ]
        }
      ]
    },
    {
      "cell_type": "markdown",
      "source": [],
      "metadata": {
        "id": "7El8N3qYKFCH"
      }
    },
    {
      "cell_type": "code",
      "source": [
        "plt.figure(figsize=(10, 7))\n",
        "plt.plot(train_loss, color='orange', label='train loss')\n",
        "plt.plot(val_loss, color='red', label='validataion loss')\n",
        "plt.xlabel('Epochs')\n",
        "plt.ylabel('Loss')\n",
        "plt.legend()\n",
        "plt.show()\n",
        "\n",
        "# psnr plots\n",
        "plt.figure(figsize=(10, 7))\n",
        "plt.plot(train_psnr, color='green', label='train PSNR dB')\n",
        "plt.plot(val_psnr, color='blue', label='validataion PSNR dB')\n",
        "plt.xlabel('Epochs')\n",
        "plt.ylabel('PSNR (dB)')\n",
        "plt.legend()\n",
        "plt.show()"
      ],
      "metadata": {
        "id": "4q0vrOwXbpKv",
        "colab": {
          "base_uri": "https://localhost:8080/",
          "height": 867
        },
        "outputId": "f2ff3718-d36a-41ea-db3c-0e94e49cda01"
      },
      "execution_count": null,
      "outputs": [
        {
          "output_type": "display_data",
          "data": {
            "text/plain": [
              "<Figure size 720x504 with 1 Axes>"
            ],
            "image/png": "[encoded data removed]"
          },
          "metadata": {
            "needs_background": "light"
          }
        },
        {
          "output_type": "display_data",
          "data": {
            "text/plain": [
              "<Figure size 720x504 with 1 Axes>"
            ],
            "image/png": "[encoded data removed]"
          },
          "metadata": {
            "needs_background": "light"
          }
        }
      ]
    },
    {
      "cell_type": "code",
      "source": [
        "for img, label in val_dl:\n",
        "  img=img[0]\n",
        "  label=label[0]\n",
        "  break\n",
        "\n",
        "model.eval()\n",
        "with torch.no_grad():\n",
        "  img_=img.unsqueeze(0)\n",
        "  img_=img_.to(device)\n",
        "  output=model(img_)\n",
        "  output=output.squeeze(0)\n",
        "\n",
        "plt.figure(figsize=(15,15))\n",
        "plt.subplot(1,3,1)\n",
        "plt.imshow(to_pil_image(img))\n",
        "plt.title('input')\n",
        "plt.subplot(1,3,2)\n",
        "plt.imshow(to_pil_image(output))\n",
        "plt.title('output')\n",
        "plt.subplot(1,3,3)\n",
        "plt.imshow(to_pil_image(label))\n",
        "plt.title('ground_truth')"
      ],
      "metadata": {
        "id": "Zmxv4OiMm5Z3",
        "colab": {
          "base_uri": "https://localhost:8080/",
          "height": 309
        },
        "outputId": "85ef5ee8-9326-4cc7-883f-6788168aff37"
      },
      "execution_count": null,
      "outputs": [
        {
          "output_type": "execute_result",
          "data": {
            "text/plain": [
              "Text(0.5, 1.0, 'ground_truth')"
            ]
          },
          "metadata": {},
          "execution_count": 53
        },
        {
          "output_type": "display_data",
          "data": {
            "text/plain": [
              "<Figure size 1080x1080 with 3 Axes>"
            ],
            "image/png": "[encoded data removed]"
          },
          "metadata": {
            "needs_background": "light"
          }
        }
      ]
    },
    {
      "cell_type": "code",
      "source": [],
      "metadata": {
        "id": "3dotMsbBXMnJ"
      },
      "execution_count": null,
      "outputs": []
    }
  ]
}